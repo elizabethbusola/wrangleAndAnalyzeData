{
 "cells": [
  {
   "cell_type": "markdown",
   "metadata": {},
   "source": [
    "## Reporting: wragle_report\n",
    "* Create a **300-600 word written report** called \"wrangle_report.pdf\" or \"wrangle_report.html\" that briefly describes your wrangling efforts. This is to be framed as an internal document."
   ]
  },
  {
   "cell_type": "markdown",
   "metadata": {},
   "source": [
    "Summary\n",
    "This is about WeRateDogs handle on twitter and how different breeds of Dogs are rated using that Twitter Handle.\n",
    "## Data Gathering\n",
    "#### Data was gathered from three different sources namely: \n",
    "- A csv file called twitter_archive_enhanced csv\n",
    "- A tsv file called Image predictions\n",
    "- A twitter Api\n",
    "\n",
    "-\tThe csv file was read in and a dataframe was created from it\n",
    "-\tThe second file which is a tsv file was also read and a dataframe was created \n",
    "-\tA json file was created from twitter Api and the file was read in line by line and a dataframe was also created.\n",
    "## Assessing Data \n",
    "According to the instruction given, at least eight (8) quality issues and two (2) tidiness issue were to be detected and documented from the data gathered using both Visual assessment and Programmatic assessment to assess the data.\n",
    "After both Visual and Programmatic assessment were done on the dataframes created from the three sources of data, the following issues were noted:\n",
    "\n",
    "### Quality issues \n",
    "1.\treversed arrangement of rows in the twitter api dataframe\n",
    "2.\tMissing information - drop `in_reply_to_status_id` column on WeRateDogs twitter archive file.\n",
    "3.\tMissing information - drop  `in_reply_to user_id` column on WeRateDogs twitter archive file.\n",
    "4.\tMissing Information - drop `retweeted_status_id`  on WerateDogs twitter archive file. \n",
    "5.\tMissing information - drop `retweeted_status_user_id` on WeRateDogs twitter archive.\n",
    "6.\tMissing information - drop  `retweeted_status_timestamp` on WeRateDogs twitter archive.\n",
    "7.\tUnneccesary information - drop  `source` in the WeRateDogs csv file is an unnecessary information.\n",
    "8.\tduplicated information - drop `expanded urls` on WeRateDogs twitter archive has the same information as  tweet_id.\n",
    "9.\tRename columns(p1, p2, p3, p1_conf, p2_conf, p3_conf, p1_dog, p2_dog, p3_dog) on the image prediction dataframe.\n",
    "10.\tStrip off excess information on the timestammp column to just date.\n",
    "\n",
    "### Tidiness issues\n",
    "-\tFor tidiness, the following issues were noted and worked on accordingly: \n",
    "1.\tI converted the four columns namely - ('doggo', 'floofer', 'pupper', 'puppo') into two columns and gave them new names.\n",
    "2.\tI merged the three dataframes after cleaning into one dataframe.\n",
    "\t \n",
    "\n"
   ]
  },
  {
   "cell_type": "code",
   "execution_count": null,
   "metadata": {},
   "outputs": [],
   "source": []
  }
 ],
 "metadata": {
  "kernelspec": {
   "display_name": "Python 3 (ipykernel)",
   "language": "python",
   "name": "python3"
  },
  "language_info": {
   "codemirror_mode": {
    "name": "ipython",
    "version": 3
   },
   "file_extension": ".py",
   "mimetype": "text/x-python",
   "name": "python",
   "nbconvert_exporter": "python",
   "pygments_lexer": "ipython3",
   "version": "3.9.7"
  }
 },
 "nbformat": 4,
 "nbformat_minor": 2
}
