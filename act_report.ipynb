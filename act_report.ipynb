{
 "cells": [
  {
   "cell_type": "markdown",
   "metadata": {},
   "source": [
    "## Report: act_report\n",
    "* Create a **250-word-minimum written report** called \"act_report.pdf\" or \"act_report.html\" that communicates the insights and displays the visualization(s) produced from your wrangled data. This is to be framed as an external document, like a blog post or magazine article, for example."
   ]
  },
  {
   "attachments": {},
   "cell_type": "markdown",
   "metadata": {},
   "source": [
    "### Insights:\n",
    "- After merging the dataframes into one dataframe and turning the dataframe into a csv file and then reading back the csv file into a new dataframe so as to be able to give different insights on the new CSV file, the following observations were made: \n",
    "1.\tThe twitter masters dataset has 9424 rows and 21 columns.\n",
    "2.\tThe other columns from the image predictions tsv file all had 1124 missing row while \n",
    "3.\tFor the first, second and third Dog Predictions, the result showed that they made more correct predictions than incorrect prediction because there were more `Trues` than `Falses`.\n",
    "4.\tThe Mean favorite counts and retweets count is the same for all the stages of the Dog.\n",
    "5.\tThe median favorite counts and retweets count is also the same for all the stages of the Dog\n",
    "6.\tThe number of unique values for the Dog stage are `doggo`,  `floofer`, `pupper`, `puppo`.\n",
    "\n",
    "\n",
    "\n",
    "\n"
   ]
  },
  {
   "cell_type": "code",
   "execution_count": null,
   "metadata": {},
   "outputs": [],
   "source": []
  }
 ],
 "metadata": {
  "kernelspec": {
   "display_name": "Python 3 (ipykernel)",
   "language": "python",
   "name": "python3"
  },
  "language_info": {
   "codemirror_mode": {
    "name": "ipython",
    "version": 3
   },
   "file_extension": ".py",
   "mimetype": "text/x-python",
   "name": "python",
   "nbconvert_exporter": "python",
   "pygments_lexer": "ipython3",
   "version": "3.9.7"
  }
 },
 "nbformat": 4,
 "nbformat_minor": 2
}
